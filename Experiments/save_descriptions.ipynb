{
 "cells": [
  {
   "cell_type": "code",
   "execution_count": 1,
   "metadata": {
    "executionInfo": {
     "elapsed": 209,
     "status": "ok",
     "timestamp": 1695193608140,
     "user": {
      "displayName": "Justin L",
      "userId": "09733437773995221156"
     },
     "user_tz": 420
    },
    "id": "i6k-exbGAJ8A"
   },
   "outputs": [
    {
     "name": "stderr",
     "output_type": "stream",
     "text": [
      "Unused kwargs: ['_load_in_4bit', '_load_in_8bit', 'quant_method']. These kwargs are not used in <class 'transformers.utils.quantization_config.BitsAndBytesConfig'>.\n",
      "`low_cpu_mem_usage` was None, now default to True since model is quantized.\n"
     ]
    },
    {
     "data": {
      "text/plain": [
       "<module 'neuron_explainer' from '/home/jovyan/Efficient-LLM-automated-interpretability/neuron-explainer/neuron_explainer/__init__.py'>"
      ]
     },
     "execution_count": 1,
     "metadata": {},
     "output_type": "execute_result"
    }
   ],
   "source": [
    "import pandas as pd\n",
    "import utils\n",
    "\n",
    "from neuron_explainer.activations.activations import ActivationRecordSliceParams, load_neuron\n",
    "\n",
    "import importlib\n",
    "import sys\n",
    "importlib.reload(sys.modules['neuron_explainer'])\n"
   ]
  },
  {
   "cell_type": "code",
   "execution_count": 3,
   "metadata": {},
   "outputs": [
    {
     "data": {
      "text/html": [
       "<div>\n",
       "<style scoped>\n",
       "    .dataframe tbody tr th:only-of-type {\n",
       "        vertical-align: middle;\n",
       "    }\n",
       "\n",
       "    .dataframe tbody tr th {\n",
       "        vertical-align: top;\n",
       "    }\n",
       "\n",
       "    .dataframe thead th {\n",
       "        text-align: right;\n",
       "    }\n",
       "</style>\n",
       "<table border=\"1\" class=\"dataframe\">\n",
       "  <thead>\n",
       "    <tr style=\"text-align: right;\">\n",
       "      <th></th>\n",
       "      <th>layer</th>\n",
       "      <th>neuron</th>\n",
       "      <th>score</th>\n",
       "      <th>explanation</th>\n",
       "    </tr>\n",
       "  </thead>\n",
       "  <tbody>\n",
       "    <tr>\n",
       "      <th>0</th>\n",
       "      <td>0</td>\n",
       "      <td>1369</td>\n",
       "      <td>0.413477</td>\n",
       "      <td>words related to sharing, distribution, or of...</td>\n",
       "    </tr>\n",
       "    <tr>\n",
       "      <th>1</th>\n",
       "      <td>0</td>\n",
       "      <td>1044</td>\n",
       "      <td>0.470278</td>\n",
       "      <td>words related to disclaimers and instructions.</td>\n",
       "    </tr>\n",
       "    <tr>\n",
       "      <th>2</th>\n",
       "      <td>0</td>\n",
       "      <td>94</td>\n",
       "      <td>0.707333</td>\n",
       "      <td>words and phrases related to the act of tradin...</td>\n",
       "    </tr>\n",
       "    <tr>\n",
       "      <th>3</th>\n",
       "      <td>0</td>\n",
       "      <td>1501</td>\n",
       "      <td>0.369149</td>\n",
       "      <td>symbols and characters associated with numeri...</td>\n",
       "    </tr>\n",
       "    <tr>\n",
       "      <th>4</th>\n",
       "      <td>0</td>\n",
       "      <td>364</td>\n",
       "      <td>0.377606</td>\n",
       "      <td>occurrences of the word \"fact\" and its variati...</td>\n",
       "    </tr>\n",
       "    <tr>\n",
       "      <th>...</th>\n",
       "      <td>...</td>\n",
       "      <td>...</td>\n",
       "      <td>...</td>\n",
       "      <td>...</td>\n",
       "    </tr>\n",
       "    <tr>\n",
       "      <th>955</th>\n",
       "      <td>47</td>\n",
       "      <td>20</td>\n",
       "      <td>0.492280</td>\n",
       "      <td>sequences of numbers, URLs, and code-like text.</td>\n",
       "    </tr>\n",
       "    <tr>\n",
       "      <th>956</th>\n",
       "      <td>47</td>\n",
       "      <td>150</td>\n",
       "      <td>0.354141</td>\n",
       "      <td>capital letter 'B' and related single capital...</td>\n",
       "    </tr>\n",
       "    <tr>\n",
       "      <th>957</th>\n",
       "      <td>47</td>\n",
       "      <td>1989</td>\n",
       "      <td>0.417518</td>\n",
       "      <td>words and phrases related to digital technolog...</td>\n",
       "    </tr>\n",
       "    <tr>\n",
       "      <th>958</th>\n",
       "      <td>47</td>\n",
       "      <td>1970</td>\n",
       "      <td>0.363053</td>\n",
       "      <td>definite and indefinite articles along with n...</td>\n",
       "    </tr>\n",
       "    <tr>\n",
       "      <th>959</th>\n",
       "      <td>47</td>\n",
       "      <td>1611</td>\n",
       "      <td>0.395714</td>\n",
       "      <td>technical terms and abbreviations.</td>\n",
       "    </tr>\n",
       "  </tbody>\n",
       "</table>\n",
       "<p>960 rows × 4 columns</p>\n",
       "</div>"
      ],
      "text/plain": [
       "     layer  neuron     score  \\\n",
       "0        0    1369  0.413477   \n",
       "1        0    1044  0.470278   \n",
       "2        0      94  0.707333   \n",
       "3        0    1501  0.369149   \n",
       "4        0     364  0.377606   \n",
       "..     ...     ...       ...   \n",
       "955     47      20  0.492280   \n",
       "956     47     150  0.354141   \n",
       "957     47    1989  0.417518   \n",
       "958     47    1970  0.363053   \n",
       "959     47    1611  0.395714   \n",
       "\n",
       "                                           explanation  \n",
       "0     words related to sharing, distribution, or of...  \n",
       "1       words related to disclaimers and instructions.  \n",
       "2    words and phrases related to the act of tradin...  \n",
       "3     symbols and characters associated with numeri...  \n",
       "4    occurrences of the word \"fact\" and its variati...  \n",
       "..                                                 ...  \n",
       "955    sequences of numbers, URLs, and code-like text.  \n",
       "956   capital letter 'B' and related single capital...  \n",
       "957  words and phrases related to digital technolog...  \n",
       "958   definite and indefinite articles along with n...  \n",
       "959                 technical terms and abbreviations.  \n",
       "\n",
       "[960 rows x 4 columns]"
      ]
     },
     "execution_count": 3,
     "metadata": {},
     "output_type": "execute_result"
    }
   ],
   "source": [
    "# EXPLAINER_MODEL = \"meta-llama/Llama-3.1-8B-Instruct\"\n",
    "EXPLAINER_MODEL = \"unsloth/Meta-Llama-3.1-8B-Instruct-bnb-4bit\"\n",
    "# EXPLAINER_MODEL = \"deepseek-ai/DeepSeek-R1-Distill-Qwen-1.5B\"\n",
    "\n",
    "INPUT_PATH = \"neurons_to_evaluate_random-interp.csv\"\n",
    "\n",
    "neuron_df = pd.read_csv(INPUT_PATH)\n",
    "neuron_df"
   ]
  },
  {
   "cell_type": "code",
   "execution_count": null,
   "metadata": {
    "scrolled": true
   },
   "outputs": [
    {
     "name": "stdout",
     "output_type": "stream",
     "text": [
      "['\\n\\nterms and shares associated with businesses or financial markets.']\n",
      "\n",
      "\n",
      "terms and shares associated with businesses or financial markets.\n",
      "['\\n\\nfinancial related concepts.']\n",
      "\n",
      "\n",
      "financial related concepts.\n",
      "['\\n\\nwords related to finance and economics, including company stocks, market trends, and financial transactions.']\n",
      "\n",
      "\n",
      "words related to finance and economics, including company stocks, market trends, and financial transactions.\n",
      "['\\n\\nwords or phrases related to business or commerce, specifically those involving financial transactions or market movements.']\n",
      "\n",
      "\n",
      "words or phrases related to business or commerce, specifically those involving financial transactions or market movements.\n",
      "['\\n\\nwords related to business, finance, or technology, with a focus on companies, shares, and stocks.']\n",
      "\n",
      "\n",
      "words related to business, finance, or technology, with a focus on companies, shares, and stocks.\n",
      "['\\n\\nphrases or disclaimers related to legal information, possibly indicating official or authoritative content.']\n",
      "\n",
      "\n",
      "phrases or disclaimers related to legal information, possibly indicating official or authoritative content.\n",
      "['\\n\\ntext that contains explicit disclaimers or warnings, often preceding information related to regulations, medical advice, or fine/printing/website issues.']\n",
      "\n",
      "\n",
      "text that contains explicit disclaimers or warnings, often preceding information related to regulations, medical advice, or fine/printing/website issues.\n",
      "['\\n\\ndisclaimers or legal phrases.']\n",
      "\n",
      "\n",
      "disclaimers or legal phrases.\n"
     ]
    }
   ],
   "source": [
    "modes = [\"Original\", \"Summary\", \"Highlight\", \"HighlightSummary\", \"AVHS\"]\n",
    "new_results = {\"layer\":[], \"neuron\":[], \"explainer\":[], \"NeuronViewer\":[]}\n",
    "for mode in modes:\n",
    "    new_results[mode] = []\n",
    "\n",
    "for i, row in neuron_df.iterrows():\n",
    "    layer = row[\"layer\"]\n",
    "    neuron = row[\"neuron\"]\n",
    "    new_results[\"layer\"].append(layer)\n",
    "    new_results[\"neuron\"].append(neuron)\n",
    "    new_results[\"NeuronViewer\"].append(row[\"explanation\"])\n",
    "    new_results[\"explainer\"].append(EXPLAINER_MODEL)\n",
    "    neuron_record = load_neuron(layer, neuron)\n",
    "    \n",
    "    for mode in modes:\n",
    "        exp = await utils.get_explanation(mode=mode, neuron_record=neuron_record, explainer_model=EXPLAINER_MODEL)\n",
    "        print(exp)\n",
    "        new_results[mode].append(exp)\n",
    "\n",
    "    new_df = pd.DataFrame(new_results)\n",
    "    new_df\n",
    "    new_df.to_csv(\"test_results/\"+INPUT_PATH.split(\"/\")[-1].split(\".\")[0] + \"_results_\"+ EXPLAINER_MODEL.replace(\"/\",\"--\")+ \".csv\")\n",
    "\n",
    "new_df"
   ]
  },
  {
   "cell_type": "code",
   "execution_count": null,
   "metadata": {},
   "outputs": [],
   "source": []
  },
  {
   "cell_type": "code",
   "execution_count": null,
   "metadata": {},
   "outputs": [],
   "source": []
  }
 ],
 "metadata": {
  "colab": {
   "collapsed_sections": [
    "pKRdbkqZByjG",
    "5h7ySVrbBjrQ",
    "lmnxeozxzUOG"
   ],
   "provenance": [
    {
     "file_id": "1GnYQAEbpMY_R3yx6tFYdFxa3cpuFL5o1",
     "timestamp": 1689119295149
    },
    {
     "file_id": "11qTjQqjIsdUibtlmBXUSb0xzzLK-yVCR",
     "timestamp": 1688412708696
    }
   ]
  },
  "kernelspec": {
   "display_name": "Python 3 (ipykernel)",
   "language": "python",
   "name": "python3"
  },
  "language_info": {
   "codemirror_mode": {
    "name": "ipython",
    "version": 3
   },
   "file_extension": ".py",
   "mimetype": "text/x-python",
   "name": "python",
   "nbconvert_exporter": "python",
   "pygments_lexer": "ipython3",
   "version": "3.12.8"
  }
 },
 "nbformat": 4,
 "nbformat_minor": 4
}
