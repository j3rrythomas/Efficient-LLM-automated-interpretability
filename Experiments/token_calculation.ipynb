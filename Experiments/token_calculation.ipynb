{
 "cells": [
  {
   "cell_type": "code",
   "execution_count": 1,
   "metadata": {},
   "outputs": [
    {
     "name": "stderr",
     "output_type": "stream",
     "text": [
      "Unused kwargs: ['_load_in_4bit', '_load_in_8bit', 'quant_method']. These kwargs are not used in <class 'transformers.utils.quantization_config.BitsAndBytesConfig'>.\n",
      "`low_cpu_mem_usage` was None, now default to True since model is quantized.\n"
     ]
    }
   ],
   "source": [
    "import numpy as np\n",
    "import pandas as pd\n",
    "import utils\n",
    "from neuron_explainer.activations.activations import ActivationRecordSliceParams, load_neuron"
   ]
  },
  {
   "cell_type": "code",
   "execution_count": 2,
   "metadata": {},
   "outputs": [
    {
     "data": {
      "text/html": [
       "<div>\n",
       "<style scoped>\n",
       "    .dataframe tbody tr th:only-of-type {\n",
       "        vertical-align: middle;\n",
       "    }\n",
       "\n",
       "    .dataframe tbody tr th {\n",
       "        vertical-align: top;\n",
       "    }\n",
       "\n",
       "    .dataframe thead th {\n",
       "        text-align: right;\n",
       "    }\n",
       "</style>\n",
       "<table border=\"1\" class=\"dataframe\">\n",
       "  <thead>\n",
       "    <tr style=\"text-align: right;\">\n",
       "      <th></th>\n",
       "      <th>layer</th>\n",
       "      <th>neuron</th>\n",
       "      <th>score</th>\n",
       "      <th>explanation</th>\n",
       "    </tr>\n",
       "  </thead>\n",
       "  <tbody>\n",
       "    <tr>\n",
       "      <th>0</th>\n",
       "      <td>0</td>\n",
       "      <td>286</td>\n",
       "      <td>0.663509</td>\n",
       "      <td>words related to comparison.</td>\n",
       "    </tr>\n",
       "    <tr>\n",
       "      <th>1</th>\n",
       "      <td>10</td>\n",
       "      <td>1838</td>\n",
       "      <td>0.676886</td>\n",
       "      <td>phrases describing positions or situations in...</td>\n",
       "    </tr>\n",
       "    <tr>\n",
       "      <th>2</th>\n",
       "      <td>20</td>\n",
       "      <td>193</td>\n",
       "      <td>0.455764</td>\n",
       "      <td>verbs indicating questioning or challenging be...</td>\n",
       "    </tr>\n",
       "    <tr>\n",
       "      <th>3</th>\n",
       "      <td>30</td>\n",
       "      <td>1685</td>\n",
       "      <td>0.537097</td>\n",
       "      <td>expressions of gratitude and agreeing to rece...</td>\n",
       "    </tr>\n",
       "    <tr>\n",
       "      <th>4</th>\n",
       "      <td>40</td>\n",
       "      <td>431</td>\n",
       "      <td>0.365750</td>\n",
       "      <td>numbers related to time, dates, and measureme...</td>\n",
       "    </tr>\n",
       "  </tbody>\n",
       "</table>\n",
       "</div>"
      ],
      "text/plain": [
       "   layer  neuron     score                                        explanation\n",
       "0      0     286  0.663509                       words related to comparison.\n",
       "1     10    1838  0.676886   phrases describing positions or situations in...\n",
       "2     20     193  0.455764  verbs indicating questioning or challenging be...\n",
       "3     30    1685  0.537097   expressions of gratitude and agreeing to rece...\n",
       "4     40     431  0.365750   numbers related to time, dates, and measureme..."
      ]
     },
     "execution_count": 2,
     "metadata": {},
     "output_type": "execute_result"
    }
   ],
   "source": [
    "EXPLAINER_MODEL = \"unsloth/Meta-Llama-3.1-8B-Instruct-bnb-4bit\"\n",
    "INPUT_PATH = \"inputs/test_neurons.csv\"\n",
    "\n",
    "neuron_df = pd.read_csv(INPUT_PATH)\n",
    "neuron_df"
   ]
  },
  {
   "cell_type": "code",
   "execution_count": 3,
   "metadata": {},
   "outputs": [
    {
     "name": "stdout",
     "output_type": "stream",
     "text": [
      "['\\n\\ncomparisons.']\n",
      "['\\n\\nsentence starters or transitional phrases indicating comparison or contrast.']\n",
      "['\\n\\nwords/phrases that are comparative, meaning they describe or highlight differences and similarities.']\n",
      "['\\n\\nwords that indicate making comparisons or presenting an alternative, often in the context of evaluating two or more things against each other.']\n",
      "[\"\\n\\nprepositions or conjunctions that indicate comparison, such as 'compared' to, but more specifically the words are 'compared', and their variants.\"]\n",
      "[\"\\n\\nwords or phrases containing the pattern 'something(s) itself in a place' or related to unexpected or hidden identities.\"]\n",
      "['\\n\\nphrases indicating a subject being in a specific location or position, either physical or metaphorical.']\n",
      "['\\n\\nthird-person pronouns indicating self-awareness or involvement.']\n",
      "['\\n\\nwords related to the pronoun \"self\" (itself, himself) in contexts mentioning a sense of being in a place or situation.']\n",
      "['\\n\\nphrases implying possession or presence of a group or person in a particular situation.']\n",
      "['\\n\\ninstances where one group demands that another group call out or acknowledge certain problems, but not themselves.']\n",
      "['\\n\\nthe activation or calling out of certain actions or behaviors, often denoting some form of scrutiny or criticism.']\n",
      "['\\n\\nphrases indicating people or groups being criticized for their actions, with a focus on holding others accountable or being questioned by others.']\n",
      "['\\n\\nwords related to criticism or confrontation, especially phrases involving verbal action (e.g. call out, denounce, ask questions).']\n",
      "['\\n\\nphrases related to verbal actions of criticism, accusation, or questioning, typically involving speaking out against or denouncing something, someone, or an organization.']\n",
      "['\\n\\noccasional subscriptions or sign-ups for newsletters or periodic updates.']\n",
      "['\\n\\nphrases expressing gratitude, acknowledgments, and politeness, particularly in formal or professional contexts, often after a completed action (signing up, subscribing, etc.).']\n",
      "['\\n\\npre-formatted text, likely from a digital interface or a form, often related to subscriptions or sign-ups.']\n",
      "['\\n\\nphrases related to subscription or agreements, particularly those involving emails or opt-outs.']\n",
      "['\\n\\nphrases and sentences related to newsletters, subscriptions, and email communications.']\n",
      "['\\n\\nonline activity, specifically phrases related to posting, sharing, and commenting.']\n",
      "['\\n\\ntime and date in specific formats, often in combination with keywords like \"at\" or in numeric representations.']\n",
      "['\\n\\ntimes and dates, particularly in their abbreviated or 24-hour format.']\n",
      "['\\n\\nnumbers and the colon symbol (:).']\n",
      "['\\n\\ntime and date expressions.']\n"
     ]
    },
    {
     "data": {
      "text/html": [
       "<div>\n",
       "<style scoped>\n",
       "    .dataframe tbody tr th:only-of-type {\n",
       "        vertical-align: middle;\n",
       "    }\n",
       "\n",
       "    .dataframe tbody tr th {\n",
       "        vertical-align: top;\n",
       "    }\n",
       "\n",
       "    .dataframe thead th {\n",
       "        text-align: right;\n",
       "    }\n",
       "</style>\n",
       "<table border=\"1\" class=\"dataframe\">\n",
       "  <thead>\n",
       "    <tr style=\"text-align: right;\">\n",
       "      <th></th>\n",
       "      <th>layer</th>\n",
       "      <th>neuron</th>\n",
       "      <th>explainer</th>\n",
       "      <th>Original</th>\n",
       "      <th>Summary</th>\n",
       "      <th>Highlight</th>\n",
       "      <th>HighlightSummary</th>\n",
       "      <th>AVHS</th>\n",
       "    </tr>\n",
       "  </thead>\n",
       "  <tbody>\n",
       "    <tr>\n",
       "      <th>0</th>\n",
       "      <td>0</td>\n",
       "      <td>286</td>\n",
       "      <td>unsloth/Meta-Llama-3.1-8B-Instruct-bnb-4bit</td>\n",
       "      <td>2365</td>\n",
       "      <td>940</td>\n",
       "      <td>878</td>\n",
       "      <td>987</td>\n",
       "      <td>1145</td>\n",
       "    </tr>\n",
       "    <tr>\n",
       "      <th>1</th>\n",
       "      <td>10</td>\n",
       "      <td>1838</td>\n",
       "      <td>unsloth/Meta-Llama-3.1-8B-Instruct-bnb-4bit</td>\n",
       "      <td>2388</td>\n",
       "      <td>961</td>\n",
       "      <td>895</td>\n",
       "      <td>1013</td>\n",
       "      <td>1168</td>\n",
       "    </tr>\n",
       "    <tr>\n",
       "      <th>2</th>\n",
       "      <td>20</td>\n",
       "      <td>193</td>\n",
       "      <td>unsloth/Meta-Llama-3.1-8B-Instruct-bnb-4bit</td>\n",
       "      <td>2405</td>\n",
       "      <td>967</td>\n",
       "      <td>898</td>\n",
       "      <td>1030</td>\n",
       "      <td>1190</td>\n",
       "    </tr>\n",
       "    <tr>\n",
       "      <th>3</th>\n",
       "      <td>30</td>\n",
       "      <td>1685</td>\n",
       "      <td>unsloth/Meta-Llama-3.1-8B-Instruct-bnb-4bit</td>\n",
       "      <td>2277</td>\n",
       "      <td>1001</td>\n",
       "      <td>917</td>\n",
       "      <td>1082</td>\n",
       "      <td>1601</td>\n",
       "    </tr>\n",
       "    <tr>\n",
       "      <th>4</th>\n",
       "      <td>40</td>\n",
       "      <td>431</td>\n",
       "      <td>unsloth/Meta-Llama-3.1-8B-Instruct-bnb-4bit</td>\n",
       "      <td>2504</td>\n",
       "      <td>987</td>\n",
       "      <td>901</td>\n",
       "      <td>1040</td>\n",
       "      <td>1295</td>\n",
       "    </tr>\n",
       "  </tbody>\n",
       "</table>\n",
       "</div>"
      ],
      "text/plain": [
       "   layer  neuron                                    explainer  Original  \\\n",
       "0      0     286  unsloth/Meta-Llama-3.1-8B-Instruct-bnb-4bit      2365   \n",
       "1     10    1838  unsloth/Meta-Llama-3.1-8B-Instruct-bnb-4bit      2388   \n",
       "2     20     193  unsloth/Meta-Llama-3.1-8B-Instruct-bnb-4bit      2405   \n",
       "3     30    1685  unsloth/Meta-Llama-3.1-8B-Instruct-bnb-4bit      2277   \n",
       "4     40     431  unsloth/Meta-Llama-3.1-8B-Instruct-bnb-4bit      2504   \n",
       "\n",
       "   Summary  Highlight  HighlightSummary  AVHS  \n",
       "0      940        878               987  1145  \n",
       "1      961        895              1013  1168  \n",
       "2      967        898              1030  1190  \n",
       "3     1001        917              1082  1601  \n",
       "4      987        901              1040  1295  "
      ]
     },
     "execution_count": 3,
     "metadata": {},
     "output_type": "execute_result"
    }
   ],
   "source": [
    "modes = [\"Original\", \"Summary\", \"Highlight\", \"HighlightSummary\", \"AVHS\"]\n",
    "new_results = {\"layer\":[], \"neuron\":[], \"explainer\":[]}\n",
    "for mode in modes:\n",
    "    new_results[mode] = []\n",
    "\n",
    "for i, row in neuron_df.iterrows():\n",
    "    layer = row[\"layer\"]\n",
    "    neuron = row[\"neuron\"]\n",
    "    new_results[\"layer\"].append(layer)\n",
    "    new_results[\"neuron\"].append(neuron)\n",
    "    new_results[\"explainer\"].append(EXPLAINER_MODEL)\n",
    "    neuron_record = load_neuron(layer, neuron)\n",
    "    \n",
    "    for mode in modes:\n",
    "        token_results = await utils.get_explanation(mode=mode, neuron_record=neuron_record, explainer_model=EXPLAINER_MODEL, get_token_only = True)\n",
    "        new_results[mode].append(token_results['total_tokens'])\n",
    "\n",
    "new_df = pd.DataFrame(new_results)\n",
    "new_df"
   ]
  },
  {
   "cell_type": "code",
   "execution_count": 7,
   "metadata": {},
   "outputs": [],
   "source": [
    "new_df.to_csv(\"test_results/\"+INPUT_PATH.split(\"/\")[-1].split(\".\")[0] + \"_tokens_\"+EXPLAINER_MODEL.replace(\"/\",\"--\")+\".csv\")"
   ]
  },
  {
   "cell_type": "code",
   "execution_count": 8,
   "metadata": {},
   "outputs": [
    {
     "name": "stdout",
     "output_type": "stream",
     "text": [
      "Original 2387.8\n",
      "Summary 971.2\n",
      "Highlight 897.8\n",
      "HighlightSummary 1030.4\n",
      "AVHS 1279.8\n"
     ]
    }
   ],
   "source": [
    "for mode in modes:\n",
    "    avg = np.mean(new_df[mode])\n",
    "    print(mode, avg)"
   ]
  },
  {
   "cell_type": "code",
   "execution_count": null,
   "metadata": {},
   "outputs": [],
   "source": []
  }
 ],
 "metadata": {
  "kernelspec": {
   "display_name": "Python 3 (ipykernel)",
   "language": "python",
   "name": "python3"
  },
  "language_info": {
   "codemirror_mode": {
    "name": "ipython",
    "version": 3
   },
   "file_extension": ".py",
   "mimetype": "text/x-python",
   "name": "python",
   "nbconvert_exporter": "python",
   "pygments_lexer": "ipython3",
   "version": "3.12.8"
  }
 },
 "nbformat": 4,
 "nbformat_minor": 4
}
